{
 "cells": [
  {
   "cell_type": "code",
   "execution_count": 5,
   "metadata": {},
   "outputs": [
    {
     "name": "stdout",
     "output_type": "stream",
     "text": [
      "*\r\n",
      "**\r\n",
      "***\r\n",
      "****\r\n",
      "*****\r\n",
      "****\r\n",
      "***\r\n",
      "**\r\n",
      "*\r\n"
     ]
    }
   ],
   "source": [
    "i=0\n",
    "j=5\n",
    "\n",
    "for i in range(i,j):\n",
    "    for k in range(0,i+1):\n",
    "        print(\"*\",end=\"\")\n",
    "    print(\"\\r\") \n",
    "for m in range(1,j):\n",
    "    for n in range(j,m,-1):\n",
    "        print(\"*\",end=\"\")\n",
    "    print(\"\\r\")\n"
   ]
  },
  {
   "cell_type": "code",
   "execution_count": null,
   "metadata": {},
   "outputs": [],
   "source": []
  },
  {
   "cell_type": "code",
   "execution_count": null,
   "metadata": {},
   "outputs": [],
   "source": []
  }
 ],
 "metadata": {
  "kernelspec": {
   "display_name": "Python 3",
   "language": "python",
   "name": "python3"
  },
  "language_info": {
   "codemirror_mode": {
    "name": "ipython",
    "version": 3
   },
   "file_extension": ".py",
   "mimetype": "text/x-python",
   "name": "python",
   "nbconvert_exporter": "python",
   "pygments_lexer": "ipython3",
   "version": "3.7.4"
  }
 },
 "nbformat": 4,
 "nbformat_minor": 2
}
